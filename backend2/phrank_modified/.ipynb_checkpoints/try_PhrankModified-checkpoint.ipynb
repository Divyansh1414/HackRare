{
 "cells": [
  {
   "cell_type": "code",
   "execution_count": 18,
   "id": "7a909556-b0d2-4381-9dba-9ed58a0f77ff",
   "metadata": {},
   "outputs": [
    {
     "ename": "ModuleNotFoundError",
     "evalue": "No module named 'phrank_modified'",
     "output_type": "error",
     "traceback": [
      "\u001b[1;31m---------------------------------------------------------------------------\u001b[0m",
      "\u001b[1;31mModuleNotFoundError\u001b[0m                       Traceback (most recent call last)",
      "Cell \u001b[1;32mIn[18], line 26\u001b[0m\n\u001b[0;32m     22\u001b[0m \u001b[38;5;28mlen\u001b[39m(filtered_df)\n\u001b[0;32m     24\u001b[0m \u001b[38;5;28mset\u001b[39m(\u001b[38;5;28mlist\u001b[39m(filtered_df[\u001b[38;5;124m\"\u001b[39m\u001b[38;5;124mHPO ID\u001b[39m\u001b[38;5;124m\"\u001b[39m]))\n\u001b[1;32m---> 26\u001b[0m \u001b[38;5;28;01mfrom\u001b[39;00m \u001b[38;5;21;01mphrank_modified\u001b[39;00m \u001b[38;5;28;01mimport\u001b[39;00m Phrank\n\u001b[0;32m     27\u001b[0m \u001b[38;5;28;01mfrom\u001b[39;00m \u001b[38;5;21;01mphrank_modified\u001b[39;00m \u001b[38;5;28;01mimport\u001b[39;00m utils\n\u001b[0;32m     29\u001b[0m DAG\u001b[38;5;241m=\u001b[39m\u001b[38;5;124mr\u001b[39m\u001b[38;5;124m\"\u001b[39m\u001b[38;5;124mC:\u001b[39m\u001b[38;5;124m\\\u001b[39m\u001b[38;5;124mUsers\u001b[39m\u001b[38;5;124m\\\u001b[39m\u001b[38;5;124m1842s\u001b[39m\u001b[38;5;124m\\\u001b[39m\u001b[38;5;124mDocuments\u001b[39m\u001b[38;5;124m\\\u001b[39m\u001b[38;5;124mStudies\u001b[39m\u001b[38;5;124m\\\u001b[39m\u001b[38;5;124mHarvardRareDiseaseHackathon\u001b[39m\u001b[38;5;124m\\\u001b[39m\u001b[38;5;124mPhrank\u001b[39m\u001b[38;5;124m\\\u001b[39m\u001b[38;5;124mdemo\u001b[39m\u001b[38;5;124m\\\u001b[39m\u001b[38;5;124mdata\u001b[39m\u001b[38;5;124m\\\u001b[39m\u001b[38;5;124mhpodag.txt\u001b[39m\u001b[38;5;124m\"\u001b[39m\n",
      "\u001b[1;31mModuleNotFoundError\u001b[0m: No module named 'phrank_modified'"
     ]
    }
   ],
   "source": [
    "import pandas as pd\n",
    "\n",
    "file_path = r\"C:\\Users\\1842s\\Documents\\Studies\\HarvardRareDiseaseHackathon\\hpo_disorders.csv\"\n",
    "\n",
    "def filter_hpo_data(file_path, symptoms=None, frequency=None):\n",
    "   \n",
    "    # Load the dataset\n",
    "    df = pd.read_csv(file_path)\n",
    "    \n",
    "    # Apply filters\n",
    "    if symptoms:\n",
    "        df = df[df[\"HPO Term\"].str.contains('|'.join(symptoms), case=False, na=False)]\n",
    "    if frequency:\n",
    "        df = df[df[\"Frequency\"].isin(frequency)]    \n",
    "    return df\n",
    "\n",
    "# Example usage\n",
    "# file_path = \"/mnt/data/hpo_disorders.csv\"\n",
    "symptoms = [\"Headache\",\"Seizure\"]\n",
    "frequency = [\"Very frequent (99-80%)\",\"Very frequent (99-80%)\"]\n",
    "filtered_df = filter_hpo_data(file_path, symptoms, frequency)\n",
    "len(filtered_df)\n",
    "\n",
    "set(list(filtered_df[\"HPO ID\"]))\n",
    "\n",
    "from phrank_modified import Phrank\n",
    "from phrank_modified import utils\n",
    "\n",
    "DAG=r\"C:\\Users\\1842s\\Documents\\Studies\\HarvardRareDiseaseHackathon\\Phrank\\demo\\data\\hpodag.txt\"\n",
    "DISEASE_TO_PHENO=r\"C:\\Users\\1842s\\Documents\\Studies\\HarvardRareDiseaseHackathon\\Phrank\\demo\\data\\disease_to_pheno.build127.txt\"\n",
    "DISEASE_TO_GENE=r\"C:\\Users\\1842s\\Documents\\Studies\\HarvardRareDiseaseHackathon\\Phrank\\demo\\data\\gene_to_disease.build127.txt\"\n",
    "GENE_TO_PHENO=r\"C:\\Users\\1842s\\Documents\\Studies\\HarvardRareDiseaseHackathon\\Phrank\\demo\\data\\gene_to_pheno.amelie.txt\"\n",
    "p_hpo = Phrank(DAG, diseaseannotationsfile=DISEASE_TO_PHENO, diseasegenefile=DISEASE_TO_GENE)\n",
    "\n",
    "\n",
    "# defining the phenotype sets\n",
    "# phenotypeset1 = ['HP:0000077','HP:0030765','HP:0012115','HP:0002088','HP:0002099','HP:0001945','HP:0000719']\n",
    "# phenotypeset2 = ['HP:0000975','HP:0002018','HP:0000421','HP:0012393','HP:0004406','HP:0002321']\n",
    "ourpheno=set(list(filtered_df[\"HPO ID\"]))\n",
    "\n",
    "# computing the similarity between two sets of phenotypes\n",
    "matchscore = p_hpo.compute_phenotype_match(phenotypeset1, phenotypeset2)\n",
    "\n",
    "print (\"the phenotype similarity score is %.2f\"%matchscore)\n",
    "\n",
    "\n",
    "# defining patient genes and phenotypes\n",
    "# patient_genes = set(['ENSG00000000419','ENSG00000000971','ENSG00000000971','ENSG00000001626','ENSG00000001626','ENSG00000001631','ENSG00000002822','ENSG00000003137'])\n",
    "patient_phenotypes = ourpheno\n",
    "\n",
    "# sorting the disease by best match\n",
    "disease_ranking = p_hpo.rank_diseases(patient_phenotypes)\n",
    "print (\"\\nDisease ranking\")\n",
    "for disease_info in disease_ranking:\n",
    "    print (\"disease id: %s\\tsimilarity score: %.2f\"%(disease_info[1],disease_info[0]))\n",
    "\n",
    "# # sorting the genes by best match\n",
    "# gene_ranking = p_hpo.rank_genes(patient_genes, patient_phenotypes)\n",
    "# print (\"\\nGene ranking\")\n",
    "# for gene_info in gene_ranking:\n",
    "#     print (\"ensembl gene id: %s\\tsimilarity score: %.2f\"%(gene_info[1],gene_info[0]))"
   ]
  },
  {
   "cell_type": "code",
   "execution_count": 20,
   "id": "918b7501-2549-4cf4-bc08-39ea81a1ad1f",
   "metadata": {},
   "outputs": [
    {
     "ename": "ModuleNotFoundError",
     "evalue": "No module named 'phrank_modified'",
     "output_type": "error",
     "traceback": [
      "\u001b[1;31m---------------------------------------------------------------------------\u001b[0m",
      "\u001b[1;31mModuleNotFoundError\u001b[0m                       Traceback (most recent call last)",
      "Cell \u001b[1;32mIn[20], line 1\u001b[0m\n\u001b[1;32m----> 1\u001b[0m \u001b[38;5;28;01mfrom\u001b[39;00m \u001b[38;5;21;01mphrank_modified\u001b[39;00m \u001b[38;5;28;01mimport\u001b[39;00m Phrank\n\u001b[0;32m      2\u001b[0m \u001b[38;5;28;01mfrom\u001b[39;00m \u001b[38;5;21;01mphrank_modified\u001b[39;00m \u001b[38;5;28;01mimport\u001b[39;00m utils\n",
      "\u001b[1;31mModuleNotFoundError\u001b[0m: No module named 'phrank_modified'"
     ]
    }
   ],
   "source": [
    "from phrank_modified import Phrank\n",
    "from phrank_modified import utils"
   ]
  },
  {
   "cell_type": "code",
   "execution_count": 22,
   "id": "e4a1f61f-a52f-4da4-ac51-0b0b39c01e8c",
   "metadata": {},
   "outputs": [
    {
     "name": "stdout",
     "output_type": "stream",
     "text": [
      "^C\n",
      "Note: you may need to restart the kernel to use updated packages.\n"
     ]
    }
   ],
   "source": [
    "pip uninstall Phrank"
   ]
  },
  {
   "cell_type": "code",
   "execution_count": null,
   "id": "fe1aa1b9-87de-4379-81ab-b3a4e71c833d",
   "metadata": {},
   "outputs": [],
   "source": []
  }
 ],
 "metadata": {
  "kernelspec": {
   "display_name": "Python 3 (ipykernel)",
   "language": "python",
   "name": "python3"
  },
  "language_info": {
   "codemirror_mode": {
    "name": "ipython",
    "version": 3
   },
   "file_extension": ".py",
   "mimetype": "text/x-python",
   "name": "python",
   "nbconvert_exporter": "python",
   "pygments_lexer": "ipython3",
   "version": "3.11.10"
  }
 },
 "nbformat": 4,
 "nbformat_minor": 5
}
